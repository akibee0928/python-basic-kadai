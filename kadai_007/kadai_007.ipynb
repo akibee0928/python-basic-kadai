{
  "nbformat": 4,
  "nbformat_minor": 0,
  "metadata": {
    "colab": {
      "provenance": []
    },
    "kernelspec": {
      "name": "python3",
      "display_name": "Python 3"
    },
    "language_info": {
      "name": "python"
    }
  },
  "cells": [
    {
      "cell_type": "code",
      "source": [
        "#リスト/ディクショナリを使いこなそう\n",
        "\n",
        "#「array」という名前のリストの作成\n",
        "array = [\"月曜日は晴れです\", \"火曜日は雨です\", \"水曜日は晴れです\", \"木曜日は晴れです\", \"金曜日は曇りです\", \"土曜日は曇りのち雨です\", \"日曜日は雷雨です\"]\n",
        "print(array)\n",
        "\n",
        "#「dictionary」という名前のディクショナリの作成\n",
        "dictionary = {\"mon\" : \"晴れ\", \"tue\" : \"雨\", \"wed\" : \"晴れ\", \"thu\" : \"晴れ\", \"fri\" : \"曇り\", \"sat\" : \"曇りのち雨\", \"sun\" :\"雷雨\"}\n",
        "print(dictionary)\n",
        "\n",
        "#水曜日の天気予報\n",
        "print(array[2])\n",
        "print(dictionary[\"wed\"])"
      ],
      "metadata": {
        "colab": {
          "base_uri": "https://localhost:8080/"
        },
        "id": "ekhEZs0sf9m1",
        "outputId": "04f2a181-01aa-4800-c02e-b3cdf5ed562f"
      },
      "execution_count": 6,
      "outputs": [
        {
          "output_type": "stream",
          "name": "stdout",
          "text": [
            "['月曜日は晴れです', '火曜日は雨です', '水曜日は晴れです', '木曜日は晴れです', '金曜日は曇りです', '土曜日は曇りのち雨です', '日曜日は雷雨です']\n",
            "{'mon': '晴れ', 'tue': '雨', 'wed': '晴れ', 'thu': '晴れ', 'fri': '曇り', 'sat': '曇りのち雨', 'sun': '雷雨'}\n",
            "水曜日は晴れです\n",
            "晴れ\n"
          ]
        }
      ]
    }
  ]
}