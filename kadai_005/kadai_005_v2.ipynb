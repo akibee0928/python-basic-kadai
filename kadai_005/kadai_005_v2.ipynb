{
  "nbformat": 4,
  "nbformat_minor": 0,
  "metadata": {
    "colab": {
      "provenance": []
    },
    "kernelspec": {
      "name": "python3",
      "display_name": "Python 3"
    },
    "language_info": {
      "name": "python"
    }
  },
  "cells": [
    {
      "cell_type": "code",
      "source": [
        "#変数を使って四則演算しよう\n",
        "#上辺：10cm\n",
        "#下辺：20cm\n",
        "#高さ：5cm\n",
        "\n",
        "#公式：台形の面積 =（上辺＋下辺）× 高さ ÷ 2\n",
        "\n",
        "up_length = 10 #上辺\n",
        "down_length = 20 #下辺\n",
        "high_length = 5 #高さ\n",
        "\n",
        "s = (((up_length + down_length) * high_length) / 2) #台形の面積\n",
        "\n",
        "print(f\"台形の面積は{s}cm²です。\")\n"
      ],
      "metadata": {
        "colab": {
          "base_uri": "https://localhost:8080/"
        },
        "id": "gjh_QFmVjR0O",
        "outputId": "74a421b2-5902-4702-ffb8-2989d93c773d"
      },
      "execution_count": 1,
      "outputs": [
        {
          "output_type": "stream",
          "name": "stdout",
          "text": [
            "台形の面積は75.0cm²です。\n"
          ]
        }
      ]
    }
  ]
}