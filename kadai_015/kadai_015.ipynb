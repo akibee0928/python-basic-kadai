{
  "nbformat": 4,
  "nbformat_minor": 0,
  "metadata": {
    "colab": {
      "provenance": []
    },
    "kernelspec": {
      "name": "python3",
      "display_name": "Python 3"
    },
    "language_info": {
      "name": "python"
    }
  },
  "cells": [
    {
      "cell_type": "code",
      "source": [
        "class Human:\n",
        "    #コンストラクタを定義する\n",
        "    def __init__(self, name, age):\n",
        "      self.name = name\n",
        "      self.age = age\n",
        "\n",
        "#インスタント化する\n",
        "personal = Human(\"塚田\", 37)\n",
        "\n",
        "#属性にアクセスし、値を出力する\n",
        "print(personal.name)\n",
        "print(personal.age)"
      ],
      "metadata": {
        "colab": {
          "base_uri": "https://localhost:8080/"
        },
        "id": "dml8l8qKKmRf",
        "outputId": "3e046430-499d-418f-f3b7-476497f9838c"
      },
      "execution_count": 6,
      "outputs": [
        {
          "output_type": "stream",
          "name": "stdout",
          "text": [
            "塚田\n",
            "37\n"
          ]
        }
      ]
    }
  ]
}