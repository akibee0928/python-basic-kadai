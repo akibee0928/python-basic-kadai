{
  "nbformat": 4,
  "nbformat_minor": 0,
  "metadata": {
    "colab": {
      "provenance": []
    },
    "kernelspec": {
      "name": "python3",
      "display_name": "Python 3"
    },
    "language_info": {
      "name": "python"
    }
  },
  "cells": [
    {
      "cell_type": "code",
      "source": [
        "class Human:\n",
        "    #コンストラクタを定義する\n",
        "    def __init__(self):\n",
        "      self.name = \"\"\n",
        "      self.age = \"\"\n",
        "\n",
        "    #メソッドを定義する\n",
        "    def printinfo(self, name, age):\n",
        "      self.name = name\n",
        "      self.age = age\n",
        "\n",
        "    def show_printinfo(self):\n",
        "      print(self.name)\n",
        "      print(self.age)\n",
        "\n",
        "#インスタント化する\n",
        "personal = Human()\n",
        "\n",
        "#メソッドにアクセスして実行する\n",
        "personal.printinfo(\"塚田\", 37)\n",
        "personal.show_printinfo()"
      ],
      "metadata": {
        "colab": {
          "base_uri": "https://localhost:8080/"
        },
        "id": "BFIYTKrmUQL2",
        "outputId": "d3bd677c-2939-41e3-a857-ef3a66787f59"
      },
      "execution_count": 12,
      "outputs": [
        {
          "output_type": "stream",
          "name": "stdout",
          "text": [
            "塚田\n",
            "37\n"
          ]
        }
      ]
    }
  ]
}