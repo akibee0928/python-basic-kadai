{
  "nbformat": 4,
  "nbformat_minor": 0,
  "metadata": {
    "colab": {
      "provenance": []
    },
    "kernelspec": {
      "name": "python3",
      "display_name": "Python 3"
    },
    "language_info": {
      "name": "python"
    }
  },
  "cells": [
    {
      "cell_type": "code",
      "execution_count": 4,
      "metadata": {
        "colab": {
          "base_uri": "https://localhost:8080/"
        },
        "id": "fJiS8WOLUnln",
        "outputId": "41b1a824-9ed9-4e7b-8baf-5db61d0d5228"
      },
      "outputs": [
        {
          "output_type": "execute_result",
          "data": {
            "text/plain": [
              "1100.0"
            ]
          },
          "metadata": {},
          "execution_count": 4
        }
      ],
      "source": [
        "#戻り値を返す関数を定義する\n",
        "def total_price(price, tax):\n",
        "    total = price * (tax + 1)\n",
        "    return total\n",
        "\n",
        "total_price(1000, 0.1)"
      ]
    }
  ]
}