{
  "cells": [
    {
      "cell_type": "code",
      "source": [
        "#ランダムな整数を利用するために、randomモジュールをインポート\n",
        "import random\n",
        "\n",
        "#変数varに0～4までのランダムな整数を代入する\n",
        "var = random.randint(0, 15)\n",
        "\n",
        "#変数varが3の倍数の場合は「Fizz」を出力\n",
        "#変数varが5の倍数の場合は「Buzz」を出力\n",
        "#変数varが3の倍数と5の倍数の両方に該当する場合は「FizzBuzz」を出力\n",
        "#どの場合にも該当しない場合は、変数varの値を出力\n",
        "\n",
        "#varの値\n",
        "print(var)\n",
        "\n",
        "if var == 3 or var == 6 or var == 9 or var == 12:\n",
        "    print(\"Fizz\")\n",
        "elif var == 5 or var == 10:\n",
        "    print(\"Buzz\")\n",
        "elif var == 15:\n",
        "    print(\"FizzBuzz\")\n",
        "else:\n",
        "    print(var)\n",
        "\n"
      ],
      "metadata": {
        "id": "y60VALMiBZ4e",
        "outputId": "bc35a749-42ab-43b4-f306-f9163de9762e",
        "colab": {
          "base_uri": "https://localhost:8080/"
        }
      },
      "execution_count": 90,
      "outputs": [
        {
          "output_type": "stream",
          "name": "stdout",
          "text": [
            "15\n",
            "FizzBuzz\n"
          ]
        }
      ]
    }
  ],
  "metadata": {
    "colab": {
      "name": "Colaboratory へようこそ",
      "provenance": []
    },
    "kernelspec": {
      "display_name": "Python 3",
      "name": "python3"
    }
  },
  "nbformat": 4,
  "nbformat_minor": 0
}