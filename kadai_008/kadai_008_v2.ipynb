{
  "cells": [
    {
      "cell_type": "code",
      "source": [
        "#ランダムな整数を利用するために、randomモジュールをインポート\n",
        "import random\n",
        "\n",
        "#変数varに0～4までのランダムな整数を代入する\n",
        "var = random.randint(0, 100)\n",
        "\n",
        "#変数varが3の倍数の場合は「Fizz」を出力\n",
        "#変数varが5の倍数の場合は「Buzz」を出力\n",
        "#変数varが3の倍数と5の倍数の両方に該当する場合は「FizzBuzz」を出力\n",
        "#どの場合にも該当しない場合は、変数varの値を出力\n",
        "\n",
        "#varの値\n",
        "print(var)\n",
        "\n",
        "if var % 3 == 0 and var % 5 == 0 and var != 0:\n",
        "    print(\"FizzBuzz\")\n",
        "elif var % 3 == 0:\n",
        "    print(\"Fizz\")\n",
        "elif var % 5 == 0:\n",
        "    print(\"Buzz\")\n",
        "else:\n",
        "    print(var)\n",
        "\n"
      ],
      "metadata": {
        "colab": {
          "base_uri": "https://localhost:8080/"
        },
        "id": "y60VALMiBZ4e",
        "outputId": "a420a9ef-5692-4ab8-daa2-f38275e0796f"
      },
      "execution_count": 40,
      "outputs": [
        {
          "output_type": "stream",
          "name": "stdout",
          "text": [
            "30\n",
            "FizzBuzz\n"
          ]
        }
      ]
    }
  ],
  "metadata": {
    "colab": {
      "provenance": []
    },
    "kernelspec": {
      "display_name": "Python 3",
      "name": "python3"
    }
  },
  "nbformat": 4,
  "nbformat_minor": 0
}